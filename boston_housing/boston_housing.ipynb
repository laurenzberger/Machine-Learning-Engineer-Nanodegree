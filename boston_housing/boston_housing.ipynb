{
  "nbformat": 4,
  "nbformat_minor": 0,
  "metadata": {
    "colab": {
      "name": "boston_housing.ipynb",
      "version": "0.3.2",
      "provenance": []
    },
    "kernelspec": {
      "display_name": "Python 2",
      "language": "python",
      "name": "python2"
    }
  },
  "cells": [
    {
      "metadata": {
        "id": "AM7Vj5EDYgz9",
        "colab_type": "text"
      },
      "cell_type": "markdown",
      "source": [
        "[![Open In Colab](https://colab.research.google.com/assets/colab-badge.svg)](https://colab.research.google.com/github/laurenzberger/Machine-Learning-Engineer-Nanodegree/blob/master/boston_housing/boston_housing.ipynb)"
      ]
    },
    {
      "metadata": {
        "id": "KM371cPNkmWv",
        "colab_type": "text"
      },
      "cell_type": "markdown",
      "source": [
        "# Machine Learning Engineer Nanodegree\n",
        "## Model Evaluation & Validation\n",
        "## Project 1: Predicting Boston Housing Prices\n",
        "\n",
        "Welcome to the first project of the Machine Learning Engineer Nanodegree! In this notebook, some template code has already been written. You will need to implement additional functionality to successfully answer all of the questions for this project. Unless it is requested, do not modify any of the code that has already been included. In this template code, there are four sections which you must complete to successfully produce a prediction with your model. Each section where you will write code is preceded by a **STEP X** header with comments describing what must be done. Please read the instructions carefully!\n",
        "\n",
        "In addition to implementing code, there will be questions that you must answer that relate to the project and your implementation. Each section where you will answer a question is preceded by a **QUESTION X** header. Be sure that you have carefully read each question and provide thorough answers in the text boxes that begin with \"**Answer:**\". Your project submission will be evaluated based on your answers to each of the questions.  \n",
        "\n",
        "A description of the dataset can be found [here](https://archive.ics.uci.edu/ml/datasets/Housing), which is provided by the **UCI Machine Learning Repository**."
      ]
    },
    {
      "metadata": {
        "id": "xV8Ovi2tkmWw",
        "colab_type": "text"
      },
      "cell_type": "markdown",
      "source": [
        "# Getting Started\n",
        "To familiarize yourself with an iPython Notebook, **try double clicking on this cell**. You will notice that the text changes so that all the formatting is removed. This allows you to make edits to the block of text you see here. This block of text (and mostly anything that's not code) is written using [Markdown](http://daringfireball.net/projects/markdown/syntax), which is a way to format text using headers, links, italics, and many other options! Whether you're editing a Markdown text block or a code block (like the one below), you can use the keyboard shortcut **Shift + Enter** or **Shift + Return** to execute the code or text block. In this case, it will show the formatted text.\n",
        "\n",
        "Let's start by setting up some code we will need to get the rest of the project up and running. Use the keyboard shortcut mentioned above on the following code block to execute it. Alternatively, depending on your iPython Notebook program, you can press the **Play** button in the hotbar. You'll know the code block executes successfully if the message *\"Boston Housing dataset loaded successfully!\"* is printed."
      ]
    },
    {
      "metadata": {
        "id": "g4b-Mqztku1C",
        "colab_type": "code",
        "outputId": "82bc40d9-fdc3-4039-be9a-afe6fc6cf150",
        "colab": {
          "base_uri": "https://localhost:8080/",
          "height": 36
        }
      },
      "cell_type": "code",
      "source": [
        "%%bash\n",
        "[ ! -d \"/content/Machine-Learning-Engineer-Nanodegree\" ] && git clone https://github.com/laurenzberger/Machine-Learning-Engineer-Nanodegree.git"
      ],
      "execution_count": 1,
      "outputs": [
        {
          "output_type": "stream",
          "text": [
            "Cloning into 'Machine-Learning-Engineer-Nanodegree'...\n"
          ],
          "name": "stderr"
        }
      ]
    },
    {
      "metadata": {
        "id": "gaMBq0EZmAhU",
        "colab_type": "code",
        "outputId": "59f2801a-b1e4-4fef-c2fc-5cffa98e5b83",
        "colab": {
          "base_uri": "https://localhost:8080/",
          "height": 36
        }
      },
      "cell_type": "code",
      "source": [
        "cd /content/Machine-Learning-Engineer-Nanodegree/boston_housing"
      ],
      "execution_count": 2,
      "outputs": [
        {
          "output_type": "stream",
          "text": [
            "/content/Machine-Learning-Engineer-Nanodegree/boston_housing\n"
          ],
          "name": "stdout"
        }
      ]
    },
    {
      "metadata": {
        "id": "mPA8Ug6AlI1A",
        "colab_type": "code",
        "outputId": "b1194049-dd57-473f-fa7e-0062cb5a62ee",
        "colab": {
          "base_uri": "https://localhost:8080/",
          "height": 203
        }
      },
      "cell_type": "code",
      "source": [
        "ls -la"
      ],
      "execution_count": 3,
      "outputs": [
        {
          "output_type": "stream",
          "text": [
            "total 696\n",
            "drwxr-xr-x 2 root root   4096 Feb 21 15:52 \u001b[0m\u001b[01;34m.\u001b[0m/\n",
            "drwxr-xr-x 8 root root   4096 Feb 21 15:52 \u001b[01;34m..\u001b[0m/\n",
            "-rwxr-xr-x 1 root root 353432 Feb 21 15:52 \u001b[01;32mboston_housing.html\u001b[0m*\n",
            "-rw-r--r-- 1 root root 151566 Feb 21 15:52 boston_housing.ipynb\n",
            "-rw-r--r-- 1 root root 152700 Feb 21 15:52 boston_housing.my.ipynb\n",
            "-rwxr-xr-x 1 root root  12435 Feb 21 15:52 \u001b[01;32mhousing.csv\u001b[0m*\n",
            "-rwxr-xr-x 1 root root   6003 Feb 21 15:52 \u001b[01;32mproject_description.md\u001b[0m*\n",
            "-rwxr-xr-x 1 root root   2287 Feb 21 15:52 \u001b[01;32mREADME.md\u001b[0m*\n",
            "-rwxr-xr-x 1 root root   5029 Feb 21 15:52 \u001b[01;32mvisuals.py\u001b[0m*\n"
          ],
          "name": "stdout"
        }
      ]
    },
    {
      "metadata": {
        "id": "mTuWzNVUmau_",
        "colab_type": "code",
        "outputId": "a50ea27a-284c-498b-9a33-852892a7b96c",
        "colab": {
          "base_uri": "https://localhost:8080/",
          "height": 36
        }
      },
      "cell_type": "code",
      "source": [
        "!git pull"
      ],
      "execution_count": 4,
      "outputs": [
        {
          "output_type": "stream",
          "text": [
            "Already up to date.\n"
          ],
          "name": "stdout"
        }
      ]
    },
    {
      "metadata": {
        "id": "QVh1wg2OkmWx",
        "colab_type": "code",
        "outputId": "b44c7006-b6d8-43a3-bfe1-814e1c26e766",
        "colab": {
          "base_uri": "https://localhost:8080/",
          "height": 36
        }
      },
      "cell_type": "code",
      "source": [
        "# Importing a few necessary libraries\n",
        "import numpy as np\n",
        "import matplotlib.pyplot as pl\n",
        "from sklearn import datasets\n",
        "from sklearn.tree import DecisionTreeRegressor\n",
        "\n",
        "# Make matplotlib show our plots inline (nicely formatted in the notebook)\n",
        "%matplotlib inline\n",
        "\n",
        "# Create our client's feature set for which we will be predicting a selling price\n",
        "CLIENT_FEATURES = [[11.95, 0.00, 18.100, 0, 0.6590, 5.6090, 90.00, 1.385, 24, 680.0, 20.20, 332.09, 12.13]]\n",
        "\n",
        "# Load the Boston Housing dataset into the city_data variable\n",
        "city_data = datasets.load_boston()\n",
        "\n",
        "# Initialize the housing prices and housing features\n",
        "housing_prices = city_data.target\n",
        "housing_features = city_data.data\n",
        "\n",
        "print \"Boston Housing dataset loaded successfully!\""
      ],
      "execution_count": 5,
      "outputs": [
        {
          "output_type": "stream",
          "text": [
            "Boston Housing dataset loaded successfully!\n"
          ],
          "name": "stdout"
        }
      ]
    },
    {
      "metadata": {
        "id": "kdiNGOp0kmW1",
        "colab_type": "text"
      },
      "cell_type": "markdown",
      "source": [
        "# Statistical Analysis and Data Exploration\n",
        "In this first section of the project, you will quickly investigate a few basic statistics about the dataset you are working with. In addition, you'll look at the client's feature set in `CLIENT_FEATURES` and see how this particular sample relates to the features of the dataset. Familiarizing yourself with the data through an explorative process is a fundamental practice to help you better understand your results."
      ]
    },
    {
      "metadata": {
        "id": "saA-htCKkmW2",
        "colab_type": "text"
      },
      "cell_type": "markdown",
      "source": [
        "## Step 1\n",
        "In the code block below, use the imported `numpy` library to calculate the requested statistics. You will need to replace each `None` you find with the appropriate `numpy` coding for the proper statistic to be printed. Be sure to execute the code block each time to test if your implementation is working successfully. The print statements will show the statistics you calculate!"
      ]
    },
    {
      "metadata": {
        "id": "WtPm7SDHkmW2",
        "colab_type": "code",
        "outputId": "a8a46120-4aba-47da-8ecf-c1ccfc054c6b",
        "colab": {
          "base_uri": "https://localhost:8080/",
          "height": 185
        }
      },
      "cell_type": "code",
      "source": [
        "# Number of houses in the dataset\n",
        "total_houses = np.count_nonzero(housing_prices)\n",
        "\n",
        "# Number of features in the dataset\n",
        "total_features = len(housing_features[0])\n",
        "\n",
        "# Minimum housing value in the dataset\n",
        "minimum_price = np.min(housing_prices)\n",
        "\n",
        "# Maximum housing value in the dataset\n",
        "maximum_price = np.max(housing_prices)\n",
        "\n",
        "# Mean house value of the dataset\n",
        "mean_price = np.mean(housing_prices)\n",
        "\n",
        "# Median house value of the dataset\n",
        "median_price = np.median(housing_prices)\n",
        "\n",
        "# Standard deviation of housing values of the dataset\n",
        "std_dev = np.std(housing_prices)\n",
        "\n",
        "# Show the calculated statistics\n",
        "print \"Boston Housing dataset statistics (in $1000's):\\n\"\n",
        "print \"Total number of houses:\", total_houses\n",
        "print \"Total number of features:\", total_features\n",
        "print \"Minimum house price:\", minimum_price\n",
        "print \"Maximum house price:\", maximum_price\n",
        "print \"Mean house price: {0:.3f}\".format(mean_price)\n",
        "print \"Median house price:\", median_price\n",
        "print \"Standard deviation of house price: {0:.3f}\".format(std_dev)"
      ],
      "execution_count": 6,
      "outputs": [
        {
          "output_type": "stream",
          "text": [
            "Boston Housing dataset statistics (in $1000's):\n",
            "\n",
            "Total number of houses: 506\n",
            "Total number of features: 13\n",
            "Minimum house price: 5.0\n",
            "Maximum house price: 50.0\n",
            "Mean house price: 22.533\n",
            "Median house price: 21.2\n",
            "Standard deviation of house price: 9.188\n"
          ],
          "name": "stdout"
        }
      ]
    },
    {
      "metadata": {
        "id": "uoqRbXBZkmW5",
        "colab_type": "text"
      },
      "cell_type": "markdown",
      "source": [
        "## Question 1\n",
        "As a reminder, you can view a description of the Boston Housing dataset [here](https://archive.ics.uci.edu/ml/datasets/Housing), where you can find the different features under **Attribute Information**. The `MEDV` attribute relates to the values stored in our `housing_prices` variable, so we do not consider that a feature of the data.\n",
        "\n",
        "*Of the features available for each data point, choose three that you feel are significant and give a brief description for each of what they measure.*\n",
        "\n",
        "Remember, you can **double click the text box below** to add your answer!"
      ]
    },
    {
      "metadata": {
        "id": "-DFc865jkmW6",
        "colab_type": "text"
      },
      "cell_type": "markdown",
      "source": [
        "**Answer: ** \n",
        "1) RM: average number of rooms per dwelling  - Averge number of rooms per house. More the number of rooms, more is the value. I randomly checked some data points to confirm this. \n",
        "2) AGE: proportion of owner-occupied units built prior to 1940 - Proportion of older houses (built before 1940). If the area has older houses, then the housing prices will be less. Older the house, less is the value. People prefer new houses. I randomly checked some data points to confirm this.\n",
        "3) LSTAT: % lower status of the population - Percentage of population classified as lower status. This helps us to know the financial status of the population. If this percentage is higher, then the housing prices will be less."
      ]
    },
    {
      "metadata": {
        "id": "DWv_QFAmkmW9",
        "colab_type": "text"
      },
      "cell_type": "markdown",
      "source": [
        "## Question 2\n",
        "*Using your client's feature set `CLIENT_FEATURES`, which values correspond with the features you've chosen above?*  \n",
        "**Hint: ** Run the code block below to see the client's data."
      ]
    },
    {
      "metadata": {
        "id": "ZcwTYEyJkmW-",
        "colab_type": "code",
        "outputId": "e2a4221d-3344-47df-ab31-36c3457eb2b3",
        "colab": {
          "base_uri": "https://localhost:8080/",
          "height": 36
        }
      },
      "cell_type": "code",
      "source": [
        "print CLIENT_FEATURES"
      ],
      "execution_count": 7,
      "outputs": [
        {
          "output_type": "stream",
          "text": [
            "[[11.95, 0.0, 18.1, 0, 0.659, 5.609, 90.0, 1.385, 24, 680.0, 20.2, 332.09, 12.13]]\n"
          ],
          "name": "stdout"
        }
      ]
    },
    {
      "metadata": {
        "id": "f1vJnm9ckmXA",
        "colab_type": "text"
      },
      "cell_type": "markdown",
      "source": [
        "**Answer: **\n",
        " 1) RM: average number of rooms per dwelling  - 5.609\n",
        " 2) AGE: proportion of owner-occupied units built prior to 1940 - 90.0\n",
        " 3) LSTAT: % lower status of the population - 12.13\n"
      ]
    },
    {
      "metadata": {
        "id": "FqOAyE0gkmXB",
        "colab_type": "text"
      },
      "cell_type": "markdown",
      "source": [
        "# Evaluating Model Performance\n",
        "In this second section of the project, you will begin to develop the tools necessary for a model to make a prediction. Being able to accurately evaluate each model's performance through the use of these tools helps to greatly reinforce the confidence in your predictions."
      ]
    },
    {
      "metadata": {
        "id": "yQfZ5BfxkmXC",
        "colab_type": "text"
      },
      "cell_type": "markdown",
      "source": [
        "## Step 2\n",
        "In the code block below, you will need to implement code so that the `shuffle_split_data` function does the following:\n",
        "- Randomly shuffle the input data `X` and target labels (housing values) `y`.\n",
        "- Split the data into training and testing subsets, holding 30% of the data for testing.\n",
        "\n",
        "If you use any functions not already acessible from the imported libraries above, remember to include your import statement below as well!   \n",
        "Ensure that you have executed the code block once you are done. You'll know the `shuffle_split_data` function is working if the statement *\"Successfully shuffled and split the data!\"* is printed."
      ]
    },
    {
      "metadata": {
        "id": "LkF5A7h8kmXD",
        "colab_type": "code",
        "outputId": "93ec234e-4b82-4421-94f0-97a91e347e4b",
        "colab": {
          "base_uri": "https://localhost:8080/",
          "height": 36
        }
      },
      "cell_type": "code",
      "source": [
        "# Put any import statements you need for this code block here\n",
        "from sklearn.model_selection import train_test_split\n",
        "\n",
        "def shuffle_split_data(X, y):\n",
        "    \"\"\" Shuffles and splits data into 70% training and 30% testing subsets,\n",
        "        then returns the training and testing subsets. \"\"\"\n",
        "    \n",
        "    # Shuffle and split the data\n",
        "    X_train = None\n",
        "    y_train = None\n",
        "    X_test = None\n",
        "    y_test = None\n",
        "    X_train, X_test, y_train, y_test = train_test_split(X, y, test_size=0.3) \n",
        "\n",
        "    # Return the training and testing data subsets\n",
        "    return X_train, y_train, X_test, y_test\n",
        "\n",
        "\n",
        "# Test shuffle_split_data\n",
        "try:\n",
        "    X_train, y_train, X_test, y_test = shuffle_split_data(housing_features, housing_prices)\n",
        "    print \"Successfully shuffled and split the data!\"\n",
        "except:\n",
        "    print \"Something went wrong with shuffling and splitting the data.\""
      ],
      "execution_count": 8,
      "outputs": [
        {
          "output_type": "stream",
          "text": [
            "Successfully shuffled and split the data!\n"
          ],
          "name": "stdout"
        }
      ]
    },
    {
      "metadata": {
        "id": "LapFe86ykmXG",
        "colab_type": "text"
      },
      "cell_type": "markdown",
      "source": [
        "## Question 3\n",
        "*Why do we split the data into training and testing subsets for our model?*"
      ]
    },
    {
      "metadata": {
        "id": "1SuSA7fDkmXH",
        "colab_type": "text"
      },
      "cell_type": "markdown",
      "source": [
        "**Answer: **\n",
        "1) It allows us to estimate the performance of independent dataset\n",
        "2) If we have same training and testing dataset, then many data points will overlap. Without splitting the dataset, we won't be able to assess if the model is overfitting."
      ]
    },
    {
      "metadata": {
        "id": "qI0l_qC3kmXI",
        "colab_type": "text"
      },
      "cell_type": "markdown",
      "source": [
        "## Step 3\n",
        "In the code block below, you will need to implement code so that the `performance_metric` function does the following:\n",
        "- Perform a total error calculation between the true values of the `y` labels `y_true` and the predicted values of the `y` labels `y_predict`.\n",
        "\n",
        "You will need to first choose an appropriate performance metric for this problem. See [the sklearn metrics documentation](http://scikit-learn.org/stable/modules/classes.html#sklearn-metrics-metrics) to view a list of available metric functions. **Hint: ** Look at the question below to see a list of the metrics that were covered in the supporting course for this project.\n",
        "\n",
        "Once you have determined which metric you will use, remember to include the necessary import statement as well!  \n",
        "Ensure that you have executed the code block once you are done. You'll know the `performance_metric` function is working if the statement *\"Successfully performed a metric calculation!\"* is printed."
      ]
    },
    {
      "metadata": {
        "id": "966suHSRkmXJ",
        "colab_type": "code",
        "outputId": "b1d4a495-9c5a-4e6f-ac91-f651c9b822fa",
        "colab": {
          "base_uri": "https://localhost:8080/",
          "height": 36
        }
      },
      "cell_type": "code",
      "source": [
        "# Put any import statements you need for this code block here\n",
        "from sklearn.metrics import mean_squared_error\n",
        "\n",
        "def performance_metric(y_true, y_predict):\n",
        "    \"\"\" Calculates and returns the total error between true and predicted values\n",
        "        based on a performance metric chosen by the student. \"\"\"\n",
        "\n",
        "    error = mean_squared_error(y_true, y_predict)\n",
        "    return error\n",
        "\n",
        "\n",
        "# Test performance_metric\n",
        "try:\n",
        "    total_error = performance_metric(y_train, y_train)\n",
        "    print \"Successfully performed a metric calculation!\"\n",
        "except:\n",
        "    print \"Something went wrong with performing a metric calculation.\""
      ],
      "execution_count": 10,
      "outputs": [
        {
          "output_type": "stream",
          "text": [
            "Successfully performed a metric calculation!\n"
          ],
          "name": "stdout"
        }
      ]
    },
    {
      "metadata": {
        "id": "TXC3kXH-kmXM",
        "colab_type": "text"
      },
      "cell_type": "markdown",
      "source": [
        "## Question 4\n",
        "*Which performance metric below did you find was most appropriate for predicting housing prices and analyzing the total error. Why?*\n",
        "- *Accuracy*\n",
        "- *Precision*\n",
        "- *Recall*\n",
        "- *F1 Score*\n",
        "- *Mean Squared Error (MSE)*\n",
        "- *Mean Absolute Error (MAE)*"
      ]
    },
    {
      "metadata": {
        "id": "ZnOfqqGbkmXM",
        "colab_type": "text"
      },
      "cell_type": "markdown",
      "source": [
        "**Answer: ** Predicting housing prices is a regression problem. Therefore we have to consider regression performance metrics. From the above mentioned metrics, MSE and MAE are regression performance metrics. I find MSE most appropriate because the errors are positive and it emphasizes larger errors over smaller errors. It is also differentiable. Therefore we can use calculus."
      ]
    },
    {
      "metadata": {
        "id": "R_Qc47QqkmXN",
        "colab_type": "text"
      },
      "cell_type": "markdown",
      "source": [
        "## Step 4 (Final Step)\n",
        "In the code block below, you will need to implement code so that the `fit_model` function does the following:\n",
        "- Create a scoring function using the same performance metric as in **Step 2**. See the [sklearn `make_scorer` documentation](http://scikit-learn.org/stable/modules/generated/sklearn.metrics.make_scorer.html).\n",
        "- Build a GridSearchCV object using `regressor`, `parameters`, and `scoring_function`. See the [sklearn documentation on GridSearchCV](http://scikit-learn.org/stable/modules/generated/sklearn.grid_search.GridSearchCV.html).\n",
        "\n",
        "When building the scoring function and GridSearchCV object, *be sure that you read the parameters documentation thoroughly.* It is not always the case that a default parameter for a function is the appropriate setting for the problem you are working on.\n",
        "\n",
        "Since you are using `sklearn` functions, remember to include the necessary import statements below as well!  \n",
        "Ensure that you have executed the code block once you are done. You'll know the `fit_model` function is working if the statement *\"Successfully fit a model to the data!\"* is printed."
      ]
    },
    {
      "metadata": {
        "id": "7xmYT2XMkmXO",
        "colab_type": "code",
        "outputId": "7fbcd45d-109f-471a-eb49-aa47ec1eddc5",
        "colab": {
          "base_uri": "https://localhost:8080/",
          "height": 130
        }
      },
      "cell_type": "code",
      "source": [
        "# Put any import statements you need for this code block\n",
        "from sklearn.metrics import make_scorer, mean_squared_error\n",
        "from sklearn.tree import DecisionTreeRegressor\n",
        "from sklearn.model_selection import GridSearchCV\n",
        "\n",
        "def fit_model(X, y):\n",
        "    \"\"\" Tunes a decision tree regressor model using GridSearchCV on the input data X \n",
        "        and target labels y and returns this optimal model. \"\"\"\n",
        "\n",
        "    # Create a decision tree regressor object\n",
        "    regressor = DecisionTreeRegressor()\n",
        "\n",
        "    # Set up the parameters we wish to tune\n",
        "    parameters = {'max_depth':(1,2,3,4,5,6,7,8,9,10)}\n",
        "\n",
        "    # Make an appropriate scoring function\n",
        "    scoring_function = make_scorer(mean_squared_error, greater_is_better=False)\n",
        "\n",
        "    # Make the GridSearchCV object\n",
        "    reg = GridSearchCV(regressor, param_grid=parameters, scoring=scoring_function)\n",
        "\n",
        "    # Fit the learner to the data to obtain the optimal model with tuned parameters\n",
        "    reg.max_depth = 5\n",
        "    reg.fit(X, y)\n",
        "    \n",
        "    # Return the optimal model\n",
        "    return reg.best_estimator_\n",
        "\n",
        "\n",
        "# Test fit_model on entire dataset\n",
        "try:\n",
        "    reg = fit_model(housing_features, housing_prices)\n",
        "    print \"Successfully fit a model!\"\n",
        "except:\n",
        "    print \"Something went wrong with fitting a model.\""
      ],
      "execution_count": 12,
      "outputs": [
        {
          "output_type": "stream",
          "text": [
            "Successfully fit a model!\n"
          ],
          "name": "stdout"
        },
        {
          "output_type": "stream",
          "text": [
            "/usr/local/lib/python2.7/dist-packages/sklearn/model_selection/_split.py:2053: FutureWarning: You should specify a value for 'cv' instead of relying on the default value. The default value will change from 3 to 5 in version 0.22.\n",
            "  warnings.warn(CV_WARNING, FutureWarning)\n",
            "/usr/local/lib/python2.7/dist-packages/sklearn/model_selection/_search.py:841: DeprecationWarning: The default of the `iid` parameter will change from True to False in version 0.22 and will be removed in 0.24. This will change numeric results when test-set sizes are unequal.\n",
            "  DeprecationWarning)\n"
          ],
          "name": "stderr"
        }
      ]
    },
    {
      "metadata": {
        "id": "v1XhFY2akmXQ",
        "colab_type": "text"
      },
      "cell_type": "markdown",
      "source": [
        "## Question 5\n",
        "*What is the grid search algorithm and when is it applicable?*"
      ]
    },
    {
      "metadata": {
        "id": "MhI9Vr92kmXR",
        "colab_type": "text"
      },
      "cell_type": "markdown",
      "source": [
        "**Answer: ** Grid Search allows us to use multiple parameter combination and then uses cross validation to determine the optimal parameter combination which gives us the best performance. We pass the algorithm and dictionary of parameters to the GridSearchCV. It then generates grid of parameter combinations to try. The fit function then tries all the parameter combinations and then returns a fitted classifier which has optimal parameter combination. It is applicable when parameters are not directly learnt within estimators. It is used for efficient parameter searching or tuning. "
      ]
    },
    {
      "metadata": {
        "id": "xERNuAbbkmXS",
        "colab_type": "text"
      },
      "cell_type": "markdown",
      "source": [
        "## Question 6\n",
        "*What is cross-validation, and how is it performed on a model? Why would cross-validation be helpful when using grid search?*"
      ]
    },
    {
      "metadata": {
        "id": "emGFxmKXkmXS",
        "colab_type": "text"
      },
      "cell_type": "markdown",
      "source": [
        "**Answer: ** Splitting a data set into test and training data set has issues since we would want to maximize both training set and test set. To solve this issue, we use a concept named cross-validation. In cross validation, we split the data set into k equal bins. For example, consider a data set with 100 points. If k=10, then each bin consists of 10 points. In this case, we use one bin as test set and then use remaining 9 bins as training set. This experiment is done k times. At the end, we average the results for those k experiments. In GridSearch, Cross validation helps us to determine optimal parameter combination which gives us the best performance. Cross validation is used for parameter tuning."
      ]
    },
    {
      "metadata": {
        "id": "1QX9MMHfkmXT",
        "colab_type": "text"
      },
      "cell_type": "markdown",
      "source": [
        "# Checkpoint!\n",
        "You have now successfully completed your last code implementation section. Pat yourself on the back! All of your functions written above will be executed in the remaining sections below, and questions will be asked about various results for you to analyze. To prepare the **Analysis** and **Prediction** sections, you will need to intialize the two functions below. Remember, there's no need to implement any more code, so sit back and execute the code blocks! Some code comments are provided if you find yourself interested in the functionality."
      ]
    },
    {
      "metadata": {
        "id": "9aJn_cPwkmXU",
        "colab_type": "code",
        "colab": {}
      },
      "cell_type": "code",
      "source": [
        "def learning_curves(X_train, y_train, X_test, y_test):\n",
        "    \"\"\" Calculates the performance of several models with varying sizes of training data.\n",
        "        The learning and testing error rates for each model are then plotted. \"\"\"\n",
        "    \n",
        "    print \"Creating learning curve graphs for max_depths of 1, 3, 6, and 10. . .\"\n",
        "    \n",
        "    # Create the figure window\n",
        "    fig = pl.figure(figsize=(10,8))\n",
        "\n",
        "    # We will vary the training set size so that we have 50 different sizes\n",
        "    sizes = np.rint(np.linspace(1, len(X_train), 50)).astype(int)\n",
        "    train_err = np.zeros(len(sizes))\n",
        "    test_err = np.zeros(len(sizes))\n",
        "\n",
        "    # Create four different models based on max_depth\n",
        "    for k, depth in enumerate([1,3,6,10]):\n",
        "        \n",
        "        for i, s in enumerate(sizes):\n",
        "            \n",
        "            # Setup a decision tree regressor so that it learns a tree with max_depth = depth\n",
        "            regressor = DecisionTreeRegressor(max_depth = depth)\n",
        "            \n",
        "            # Fit the learner to the training data\n",
        "            regressor.fit(X_train[:s], y_train[:s])\n",
        "\n",
        "            # Find the performance on the training set\n",
        "            train_err[i] = performance_metric(y_train[:s], regressor.predict(X_train[:s]))\n",
        "            \n",
        "            # Find the performance on the testing set\n",
        "            test_err[i] = performance_metric(y_test, regressor.predict(X_test))\n",
        "\n",
        "        # Subplot the learning curve graph\n",
        "        ax = fig.add_subplot(2, 2, k+1)\n",
        "        ax.plot(sizes, test_err, lw = 2, label = 'Testing Error')\n",
        "        ax.plot(sizes, train_err, lw = 2, label = 'Training Error')\n",
        "        ax.legend()\n",
        "        ax.set_title('max_depth = %s'%(depth))\n",
        "        ax.set_xlabel('Number of Data Points in Training Set')\n",
        "        ax.set_ylabel('Total Error')\n",
        "        ax.set_xlim([0, len(X_train)])\n",
        "    \n",
        "    # Visual aesthetics\n",
        "    fig.suptitle('Decision Tree Regressor Learning Performances', fontsize=18, y=1.03)\n",
        "    fig.tight_layout()\n",
        "    fig.show()"
      ],
      "execution_count": 0,
      "outputs": []
    },
    {
      "metadata": {
        "id": "paC3AJy_kmXX",
        "colab_type": "code",
        "colab": {}
      },
      "cell_type": "code",
      "source": [
        "def model_complexity(X_train, y_train, X_test, y_test):\n",
        "    \"\"\" Calculates the performance of the model as model complexity increases.\n",
        "        The learning and testing errors rates are then plotted. \"\"\"\n",
        "    \n",
        "    print \"Creating a model complexity graph. . . \"\n",
        "\n",
        "    # We will vary the max_depth of a decision tree model from 1 to 14\n",
        "    max_depth = np.arange(1, 14)\n",
        "    train_err = np.zeros(len(max_depth))\n",
        "    test_err = np.zeros(len(max_depth))\n",
        "\n",
        "    for i, d in enumerate(max_depth):\n",
        "        # Setup a Decision Tree Regressor so that it learns a tree with depth d\n",
        "        regressor = DecisionTreeRegressor(max_depth = d)\n",
        "\n",
        "        # Fit the learner to the training data\n",
        "        regressor.fit(X_train, y_train)\n",
        "\n",
        "        # Find the performance on the training set\n",
        "        train_err[i] = performance_metric(y_train, regressor.predict(X_train))\n",
        "\n",
        "        # Find the performance on the testing set\n",
        "        test_err[i] = performance_metric(y_test, regressor.predict(X_test))\n",
        "\n",
        "    # Plot the model complexity graph\n",
        "    pl.figure(figsize=(7, 5))\n",
        "    pl.title('Decision Tree Regressor Complexity Performance')\n",
        "    pl.plot(max_depth, test_err, lw=2, label = 'Testing Error')\n",
        "    pl.plot(max_depth, train_err, lw=2, label = 'Training Error')\n",
        "    pl.legend()\n",
        "    pl.xlabel('Maximum Depth')\n",
        "    pl.ylabel('Total Error')\n",
        "    pl.show()"
      ],
      "execution_count": 0,
      "outputs": []
    },
    {
      "metadata": {
        "id": "z8qj4D0xkmXa",
        "colab_type": "text"
      },
      "cell_type": "markdown",
      "source": [
        "# Analyzing Model Performance\n",
        "In this third section of the project, you'll take a look at several models' learning and testing error rates on various subsets of training data. Additionally, you'll investigate one particular algorithm with an increasing `max_depth` parameter on the full training set to observe how model complexity affects learning and testing errors. Graphing your model's performance based on varying criteria can be beneficial in the analysis process, such as visualizing behavior that may not have been apparent from the results alone."
      ]
    },
    {
      "metadata": {
        "id": "AuUXRw88kmXb",
        "colab_type": "code",
        "outputId": "ea28c8e0-b260-4a8b-aeda-8d7e6ff20895",
        "colab": {
          "base_uri": "https://localhost:8080/",
          "height": 689
        }
      },
      "cell_type": "code",
      "source": [
        "learning_curves(X_train, y_train, X_test, y_test)"
      ],
      "execution_count": 15,
      "outputs": [
        {
          "output_type": "stream",
          "text": [
            "Creating learning curve graphs for max_depths of 1, 3, 6, and 10. . .\n"
          ],
          "name": "stdout"
        },
        {
          "output_type": "stream",
          "text": [
            "/usr/local/lib/python2.7/dist-packages/matplotlib/figure.py:457: UserWarning: matplotlib is currently using a non-GUI backend, so cannot show the figure\n",
            "  \"matplotlib is currently using a non-GUI backend, \"\n"
          ],
          "name": "stderr"
        },
        {
          "output_type": "display_data",
          "data": {
            "image/png": "[encoded data removed]",
            "text/plain": [
              "<Figure size 720x576 with 4 Axes>"
            ]
          },
          "metadata": {
            "tags": []
          }
        }
      ]
    },
    {
      "metadata": {
        "id": "TumxZVN0kmXf",
        "colab_type": "text"
      },
      "cell_type": "markdown",
      "source": [
        "## Question 7\n",
        "*Choose one of the learning curve graphs that are created above. What is the max depth for the chosen model? As the size of the training set increases, what happens to the training error? What happens to the testing error?*"
      ]
    },
    {
      "metadata": {
        "id": "yuY4x-FqkmXg",
        "colab_type": "text"
      },
      "cell_type": "markdown",
      "source": [
        "**Answer: ** I choose the second learning curve. The max depth for it is 3. As the size of the training set increases, training error slightly increases. As the size of the training set increases, test error decreases significantly. At the end, there is a small gap between training error and test error (converges)."
      ]
    },
    {
      "metadata": {
        "id": "eeUAXevskmXh",
        "colab_type": "text"
      },
      "cell_type": "markdown",
      "source": [
        "## Question 8\n",
        "*Look at the learning curve graphs for the model with a max depth of 1 and a max depth of 10. When the model is using the full training set, does it suffer from high bias or high variance when the max depth is 1? What about when the max depth is 10?*"
      ]
    },
    {
      "metadata": {
        "id": "8u022gn-kmXi",
        "colab_type": "text"
      },
      "cell_type": "markdown",
      "source": [
        "**Answer: ** When the model is using the full training set, it suffers from high bias when the max depth is 1. At max depth of 1, the training and test errors converge and the errors are high. Training error initially goes up and then plateau as the no of data points increases. Test error initially decreases and then plateau as the no of data points increases. This means that the model suffers from high bias. In this case, the model is less complex. If the model does not represent the complexity adequately, then it will suffer from high bias. It suffers from high variance when max depth is 10. At max depth of 10, there is a huge gap between the training and test errors. In this case, the training error is very low (almost negligible) and the test error is high compared to training error. This means that model suffers from high variance. If the model is too complex, then the variability increases. "
      ]
    },
    {
      "metadata": {
        "id": "eN_hWFv6kmXj",
        "colab_type": "code",
        "outputId": "59dc0154-fca8-4c0b-c7ba-5af1cae152b8",
        "colab": {}
      },
      "cell_type": "code",
      "source": [
        "model_complexity(X_train, y_train, X_test, y_test)"
      ],
      "execution_count": 0,
      "outputs": [
        {
          "output_type": "stream",
          "text": [
            "Creating a model complexity graph. . . \n"
          ],
          "name": "stdout"
        },
        {
          "output_type": "display_data",
          "data": {
            "image/png": "[encoded data removed]",
            "text/plain": [
              "<matplotlib.figure.Figure at 0x7f7e5521e150>"
            ]
          },
          "metadata": {
            "tags": []
          }
        }
      ]
    },
    {
      "metadata": {
        "id": "bDVnJQYwkmXl",
        "colab_type": "text"
      },
      "cell_type": "markdown",
      "source": [
        "## Question 9\n",
        "*From the model complexity graph above, describe the training and testing errors as the max depth increases. Based on your interpretation of the graph, which max depth results in a model that best generalizes the dataset? Why?*"
      ]
    },
    {
      "metadata": {
        "id": "mzCJkCoBkmXm",
        "colab_type": "text"
      },
      "cell_type": "markdown",
      "source": [
        "**Answer: ** Initially, the training and test errors decreases as the max depth increases. After a certain point (depth 5), the training error decreases further but test error starts plateauing or slightly increasing. Initially the model suffers from  high bias. As the max depth increases to maximum, the model suffers from high variance. Max depth of 5 results in a model that best generalizes the dataset. This is because at max depth of 5, the test error is minimum. The model with depth 5 is the one which generalizes better and has the lowest complexity. After depth 5, noise is added to the test error i.e test error starts plateauing or slightly increasing."
      ]
    },
    {
      "metadata": {
        "id": "9EDstkg0kmXn",
        "colab_type": "text"
      },
      "cell_type": "markdown",
      "source": [
        "# Model Prediction\n",
        "In this final section of the project, you will make a prediction on the client's feature set using an optimized model from `fit_model`. When applying grid search along with cross-validation to optimize your model, it would typically be performed and validated on a training set and subsequently evaluated on a **dedicated test set**. In this project, the optimization below is performed on the *entire dataset* (as opposed to the training set you made above) due to the many outliers in the data. Using the entire dataset for training provides for a less volatile prediction at the expense of not testing your model's performance. \n",
        "\n",
        "*To answer the following questions, it is recommended that you run the code blocks several times and use the median or mean value of the results.*"
      ]
    },
    {
      "metadata": {
        "id": "Zd9B0JkmkmXo",
        "colab_type": "text"
      },
      "cell_type": "markdown",
      "source": [
        "## Question 10\n",
        "*Using grid search on the entire dataset, what is the optimal `max_depth` parameter for your model? How does this result compare to your intial intuition?*  \n",
        "**Hint: ** Run the code block below to see the max depth produced by your optimized model."
      ]
    },
    {
      "metadata": {
        "id": "fWQk5JUQkmXo",
        "colab_type": "code",
        "outputId": "cbbb9c58-8c9f-41bf-f0fd-0a5fd1a6bbf5",
        "colab": {}
      },
      "cell_type": "code",
      "source": [
        "print \"Final model has an optimal max_depth parameter of\", reg.get_params()['max_depth']"
      ],
      "execution_count": 0,
      "outputs": [
        {
          "output_type": "stream",
          "text": [
            "Final model has an optimal max_depth parameter of 5\n"
          ],
          "name": "stdout"
        }
      ]
    },
    {
      "metadata": {
        "id": "2mRkeVakkmXr",
        "colab_type": "text"
      },
      "cell_type": "markdown",
      "source": [
        "**Answer: ** The optimal max_depth for the model is 5. This result matches my initial intution. Initially the model suffers from high bias. As the max depth increases to maximum, the model suffers from high variance. Max depth of 5 results in a model that best generalizes the dataset. This is because at max depth of 5, the test error is minimum and also the gap between training and testing error (converges) is less compared to the gap at max depth of 12 (high variance).\n"
      ]
    },
    {
      "metadata": {
        "id": "jB78NdbokmXs",
        "colab_type": "text"
      },
      "cell_type": "markdown",
      "source": [
        "## Question 11\n",
        "*With your parameter-tuned model, what is the best selling price for your client's home? How does this selling price compare to the basic statistics you calculated on the dataset?*  \n",
        "\n",
        "**Hint: ** Run the code block below to have your parameter-tuned model make a prediction on the client's home."
      ]
    },
    {
      "metadata": {
        "id": "BTPTf72ukmXs",
        "colab_type": "code",
        "outputId": "20aee1b6-dfb3-4e8b-d5ce-16b120b83f41",
        "colab": {}
      },
      "cell_type": "code",
      "source": [
        "sale_price = reg.predict(CLIENT_FEATURES)\n",
        "print \"Predicted value of client's home: {0:.3f}\".format(sale_price[0])"
      ],
      "execution_count": 0,
      "outputs": [
        {
          "output_type": "stream",
          "text": [
            "Predicted value of client's home: 21.630\n"
          ],
          "name": "stdout"
        }
      ]
    },
    {
      "metadata": {
        "id": "_9VOgQD0kmXu",
        "colab_type": "text"
      },
      "cell_type": "markdown",
      "source": [
        "**Answer: ** The best selling price for the client's home is 20.968. The mean housing price is 22.533. The best selling price for the client's home is 1.565 less than the mean. The median housing price is 21.2. The best selling price for the client's home is 0.232  less than the median. Therefore the best selling price for the client's home is slightly less than the median and mean. Standard deviation of house price is 9.188. Therefore the best selling price for the client's home is within one standard deviation (9.188) of the Mean (22.533). "
      ]
    },
    {
      "metadata": {
        "id": "s3VS7KA5kmXv",
        "colab_type": "text"
      },
      "cell_type": "markdown",
      "source": [
        "## Question 12 (Final Question):\n",
        "*In a few sentences, discuss whether you would use this model or not to predict the selling price of future clients' homes in the Greater Boston area.*"
      ]
    },
    {
      "metadata": {
        "id": "YYfcj7PWkmXw",
        "colab_type": "text"
      },
      "cell_type": "markdown",
      "source": [
        "**Answer: ** I would use this model to predict the selling price of future client's homes in the Greater Boston Area. We have a decent model that predicts the housing prices. My initial intution for the max depth matched the one provided by the GridSearchCV. I have confidence in this model because we have visually verified the model using matplotlib. Also the best selling price for the client's home was adequately justified by the calculated statistics. e.g within one standard deviation of the mean and slightly less than mean and median."
      ]
    },
    {
      "metadata": {
        "id": "oJoPCGzbkmXx",
        "colab_type": "code",
        "outputId": "f10e87b4-49b5-4cb4-b759-d4d390e1b61c",
        "colab": {}
      },
      "cell_type": "code",
      "source": [
        "from sklearn.neighbors import NearestNeighbors\n",
        "def find_nearest_neighbor_indexes(x, X):  # x is your vector and X is the data set.\n",
        "   neigh = NearestNeighbors( n_neighbors = 10 )\n",
        "   neigh.fit( X)\n",
        "   distance, indexes = neigh.kneighbors( x )\n",
        "   return indexes\n",
        "x = CLIENT_FEATURES\n",
        "X = housing_features\n",
        "indexes = find_nearest_neighbor_indexes(x, X)\n",
        "sum_prices = []\n",
        "for i in indexes:\n",
        "    sum_prices.append(city_data.target[i])\n",
        "neighbor_avg = np.mean(sum_prices)\n",
        "print \"Nearest Neighbors average: \" + str(neighbor_avg)"
      ],
      "execution_count": 0,
      "outputs": [
        {
          "output_type": "stream",
          "text": [
            "Nearest Neighbors average: 21.52\n"
          ],
          "name": "stdout"
        }
      ]
    },
    {
      "metadata": {
        "id": "199tROh5kmX1",
        "colab_type": "code",
        "colab": {}
      },
      "cell_type": "code",
      "source": [
        ""
      ],
      "execution_count": 0,
      "outputs": []
    }
  ]
}