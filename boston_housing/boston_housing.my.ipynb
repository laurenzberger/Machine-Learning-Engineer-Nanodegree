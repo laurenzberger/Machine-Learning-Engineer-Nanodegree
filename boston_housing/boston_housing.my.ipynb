{
  "nbformat": 4,
  "nbformat_minor": 0,
  "metadata": {
    "colab": {
      "name": "boston_housing.my.ipynb",
      "version": "0.3.2",
      "provenance": [],
      "collapsed_sections": [],
      "include_colab_link": true
    },
    "kernelspec": {
      "display_name": "Python 2",
      "language": "python",
      "name": "python2"
    }
  },
  "cells": [
    {
      "cell_type": "markdown",
      "metadata": {
        "id": "view-in-github",
        "colab_type": "text"
      },
      "source": [
        "<a href=\"https://colab.research.google.com/github/laurenzberger/Machine-Learning-Engineer-Nanodegree/blob/master/boston_housing/boston_housing.my.ipynb\" target=\"_parent\"><img src=\"https://colab.research.google.com/assets/colab-badge.svg\" alt=\"Open In Colab\"/></a>"
      ]
    },
    {
      "metadata": {
        "id": "jPIx_3Uqt91H",
        "colab_type": "text"
      },
      "cell_type": "markdown",
      "source": [
        "[![Open In Colab](https://colab.research.google.com/assets/colab-badge.svg)](https://colab.research.google.com/github/laurenzberger/Machine-Learning-Engineer-Nanodegree/blob/master/boston_housing/boston_housing.my.ipynb)"
      ]
    },
    {
      "metadata": {
        "id": "KM371cPNkmWv",
        "colab_type": "text"
      },
      "cell_type": "markdown",
      "source": [
        "# Machine Learning Engineer Nanodegree\n",
        "## Model Evaluation & Validation\n",
        "## Project 1: Predicting Boston Housing Prices\n",
        "\n",
        "Welcome to the first project of the Machine Learning Engineer Nanodegree! In this notebook, some template code has already been written. You will need to implement additional functionality to successfully answer all of the questions for this project. Unless it is requested, do not modify any of the code that has already been included. In this template code, there are four sections which you must complete to successfully produce a prediction with your model. Each section where you will write code is preceded by a **STEP X** header with comments describing what must be done. Please read the instructions carefully!\n",
        "\n",
        "In addition to implementing code, there will be questions that you must answer that relate to the project and your implementation. Each section where you will answer a question is preceded by a **QUESTION X** header. Be sure that you have carefully read each question and provide thorough answers in the text boxes that begin with \"**Answer:**\". Your project submission will be evaluated based on your answers to each of the questions.  \n",
        "\n",
        "A description of the dataset can be found [here](https://archive.ics.uci.edu/ml/datasets/Housing), which is provided by the **UCI Machine Learning Repository**."
      ]
    },
    {
      "metadata": {
        "id": "xV8Ovi2tkmWw",
        "colab_type": "text"
      },
      "cell_type": "markdown",
      "source": [
        "# Getting Started\n",
        "To familiarize yourself with an iPython Notebook, **try double clicking on this cell**. You will notice that the text changes so that all the formatting is removed. This allows you to make edits to the block of text you see here. This block of text (and mostly anything that's not code) is written using [Markdown](http://daringfireball.net/projects/markdown/syntax), which is a way to format text using headers, links, italics, and many other options! Whether you're editing a Markdown text block or a code block (like the one below), you can use the keyboard shortcut **Shift + Enter** or **Shift + Return** to execute the code or text block. In this case, it will show the formatted text.\n",
        "\n",
        "Let's start by setting up some code we will need to get the rest of the project up and running. Use the keyboard shortcut mentioned above on the following code block to execute it. Alternatively, depending on your iPython Notebook program, you can press the **Play** button in the hotbar. You'll know the code block executes successfully if the message *\"Boston Housing dataset loaded successfully!\"* is printed."
      ]
    },
    {
      "metadata": {
        "id": "g4b-Mqztku1C",
        "colab_type": "code",
        "colab": {}
      },
      "cell_type": "code",
      "source": [
        "%%bash\n",
        "[ ! -d \"/content/Machine-Learning-Engineer-Nanodegree\" ] && git clone https://github.com/laurenzberger/Machine-Learning-Engineer-Nanodegree.git"
      ],
      "execution_count": 0,
      "outputs": []
    },
    {
      "metadata": {
        "id": "gaMBq0EZmAhU",
        "colab_type": "code",
        "outputId": "c81cdb5f-a277-4866-e5c2-f034a7a624c6",
        "colab": {
          "base_uri": "https://localhost:8080/",
          "height": 36
        }
      },
      "cell_type": "code",
      "source": [
        "cd /content/Machine-Learning-Engineer-Nanodegree/boston_housing"
      ],
      "execution_count": 0,
      "outputs": [
        {
          "output_type": "stream",
          "text": [
            "/content/Machine-Learning-Engineer-Nanodegree/boston_housing\n"
          ],
          "name": "stdout"
        }
      ]
    },
    {
      "metadata": {
        "id": "mPA8Ug6AlI1A",
        "colab_type": "code",
        "outputId": "ae2d3337-8121-4a09-e31b-c0bdd35ad968",
        "colab": {
          "base_uri": "https://localhost:8080/",
          "height": 203
        }
      },
      "cell_type": "code",
      "source": [
        "ls -la"
      ],
      "execution_count": 0,
      "outputs": [
        {
          "output_type": "stream",
          "text": [
            "total 696\n",
            "drwxr-xr-x 2 root root   4096 Feb 20 10:38 \u001b[0m\u001b[01;34m.\u001b[0m/\n",
            "drwxr-xr-x 8 root root   4096 Feb 20 10:38 \u001b[01;34m..\u001b[0m/\n",
            "-rwxr-xr-x 1 root root 353432 Feb 20 10:38 \u001b[01;32mboston_housing.html\u001b[0m*\n",
            "-rw-r--r-- 1 root root 151569 Feb 20 10:38 boston_housing.ipynb\n",
            "-rw-r--r-- 1 root root 152080 Feb 20 10:38 boston_housing.my.ipynb\n",
            "-rwxr-xr-x 1 root root  12435 Feb 20 10:38 \u001b[01;32mhousing.csv\u001b[0m*\n",
            "-rwxr-xr-x 1 root root   6003 Feb 20 10:38 \u001b[01;32mproject_description.md\u001b[0m*\n",
            "-rwxr-xr-x 1 root root   2287 Feb 20 10:38 \u001b[01;32mREADME.md\u001b[0m*\n",
            "-rwxr-xr-x 1 root root   5029 Feb 20 10:38 \u001b[01;32mvisuals.py\u001b[0m*\n"
          ],
          "name": "stdout"
        }
      ]
    },
    {
      "metadata": {
        "id": "mTuWzNVUmau_",
        "colab_type": "code",
        "outputId": "68bc6070-280a-4287-8766-938f987a4bf4",
        "colab": {
          "base_uri": "https://localhost:8080/",
          "height": 222
        }
      },
      "cell_type": "code",
      "source": [
        "!git pull"
      ],
      "execution_count": 0,
      "outputs": [
        {
          "output_type": "stream",
          "text": [
            "remote: Enumerating objects: 7, done.\u001b[K\n",
            "remote: Counting objects:  14% (1/7)   \u001b[K\rremote: Counting objects:  28% (2/7)   \u001b[K\rremote: Counting objects:  42% (3/7)   \u001b[K\rremote: Counting objects:  57% (4/7)   \u001b[K\rremote: Counting objects:  71% (5/7)   \u001b[K\rremote: Counting objects:  85% (6/7)   \u001b[K\rremote: Counting objects: 100% (7/7)   \u001b[K\rremote: Counting objects: 100% (7/7), done.\u001b[K\n",
            "remote: Compressing objects:  25% (1/4)   \u001b[K\rremote: Compressing objects:  50% (2/4)   \u001b[K\rremote: Compressing objects:  75% (3/4)   \u001b[K\rremote: Compressing objects: 100% (4/4)   \u001b[K\rremote: Compressing objects: 100% (4/4), done.\u001b[K\n",
            "remote: Total 4 (delta 3), reused 0 (delta 0), pack-reused 0\u001b[K\n",
            "Unpacking objects:  25% (1/4)   \rUnpacking objects:  50% (2/4)   \rUnpacking objects:  75% (3/4)   \rUnpacking objects: 100% (4/4)   \rUnpacking objects: 100% (4/4), done.\n",
            "From https://github.com/laurenzberger/Machine-Learning-Engineer-Nanodegree\n",
            "   b3caa6e..8534c17  master     -> origin/master\n",
            "Updating b3caa6e..8534c17\n",
            "Fast-forward\n",
            " boston_housing/boston_housing.my.ipynb | 62 \u001b[32m++++++++++++++++\u001b[m\u001b[31m------------------\u001b[m\n",
            " 1 file changed, 29 insertions(+), 33 deletions(-)\n"
          ],
          "name": "stdout"
        }
      ]
    },
    {
      "metadata": {
        "id": "vyaVkj0I8F4M",
        "colab_type": "code",
        "colab": {}
      },
      "cell_type": "code",
      "source": [
        "import numpy as np\n",
        "import pandas as pd\n",
        "from sklearn import datasets\n",
        "\n",
        "boston = datasets.load_boston()\n",
        "predictors = boston.data\n",
        "target = np.array([boston.target]).T\n",
        "boston_all =np.concatenate((predictors,target), axis=1)\n",
        "columns = np.append([boston.feature_names],['MEDV'])\n",
        "boston_df = pd.DataFrame(data=boston_all,columns=columns)"
      ],
      "execution_count": 0,
      "outputs": []
    },
    {
      "metadata": {
        "id": "ybZdjort85hz",
        "colab_type": "code",
        "colab": {
          "base_uri": "https://localhost:8080/",
          "height": 36
        },
        "outputId": "b1288f03-bbca-4ae6-cfff-713483b7b6ad"
      },
      "cell_type": "code",
      "source": [
        "boston_df.shape"
      ],
      "execution_count": 3,
      "outputs": [
        {
          "output_type": "execute_result",
          "data": {
            "text/plain": [
              "(506, 14)"
            ]
          },
          "metadata": {
            "tags": []
          },
          "execution_count": 3
        }
      ]
    },
    {
      "metadata": {
        "id": "kdiNGOp0kmW1",
        "colab_type": "text"
      },
      "cell_type": "markdown",
      "source": [
        "# Statistical Analysis and Data Exploration\n"
      ]
    },
    {
      "metadata": {
        "id": "FqOAyE0gkmXB",
        "colab_type": "text"
      },
      "cell_type": "markdown",
      "source": [
        "# Evaluating Model Performance\n"
      ]
    },
    {
      "metadata": {
        "id": "9EDstkg0kmXn",
        "colab_type": "text"
      },
      "cell_type": "markdown",
      "source": [
        "# Model Prediction\n"
      ]
    }
  ]
}