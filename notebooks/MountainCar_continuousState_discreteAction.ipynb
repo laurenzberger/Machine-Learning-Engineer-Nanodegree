{
  "nbformat": 4,
  "nbformat_minor": 0,
  "metadata": {
    "colab": {
      "name": "MountainCar-continuousState-discreteAction.ipynb",
      "provenance": [],
      "authorship_tag": "ABX9TyPVEi70fWmIGZqscs6LUxOQ",
      "include_colab_link": true
    },
    "kernelspec": {
      "name": "python3",
      "display_name": "Python 3"
    }
  },
  "cells": [
    {
      "cell_type": "markdown",
      "metadata": {
        "id": "view-in-github",
        "colab_type": "text"
      },
      "source": [
        "<a href=\"https://colab.research.google.com/github/laurenzberger/Machine-Learning-Engineer-Nanodegree/blob/master/notebooks/MountainCar_continuousState_discreteAction.ipynb\" target=\"_parent\"><img src=\"https://colab.research.google.com/assets/colab-badge.svg\" alt=\"Open In Colab\"/></a>"
      ]
    },
    {
      "cell_type": "markdown",
      "metadata": {
        "id": "38PQNGx-m_Xc",
        "colab_type": "text"
      },
      "source": [
        "Implement a solution for the [MountainCar problem with continous state and discrete actions](https://gym.openai.com/envs/MountainCar-v0/)"
      ]
    }
  ]
}