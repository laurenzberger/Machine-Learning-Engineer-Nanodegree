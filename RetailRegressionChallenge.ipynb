{
  "nbformat": 4,
  "nbformat_minor": 0,
  "metadata": {
    "colab": {
      "name": "RetailRegressionChallenge.ipynb",
      "version": "0.3.2",
      "provenance": [],
      "include_colab_link": true
    },
    "kernelspec": {
      "name": "python3",
      "display_name": "Python 3"
    }
  },
  "cells": [
    {
      "cell_type": "markdown",
      "metadata": {
        "id": "view-in-github",
        "colab_type": "text"
      },
      "source": [
        "<a href=\"https://colab.research.google.com/github/laurenzberger/Machine-Learning-Engineer-Nanodegree/blob/master/RetailRegressionChallenge.ipynb\" target=\"_parent\"><img src=\"https://colab.research.google.com/assets/colab-badge.svg\" alt=\"Open In Colab\"/></a>"
      ]
    },
    {
      "metadata": {
        "id": "OKFJqGglL31F",
        "colab_type": "text"
      },
      "cell_type": "markdown",
      "source": [
        "# Kaggle Rossmann Challenge Prep\n",
        "\n",
        "## Dataset \n",
        "\n",
        "https://www.kaggle.com/c/rossmann-store-sales/data"
      ]
    },
    {
      "metadata": {
        "id": "bHBXcaZh3cpW",
        "colab_type": "code",
        "colab": {}
      },
      "cell_type": "code",
      "source": [
        "#download dataset from git repo if not there yet\n",
        "%%bash\n",
        "[ ! -d \"/content/retail-data-challenge\" ] && git clone https://github.com/laurenzberger/retail-data-challenge.git"
      ],
      "execution_count": 0,
      "outputs": []
    },
    {
      "metadata": {
        "id": "SORDmX5S33Mp",
        "colab_type": "code",
        "colab": {
          "base_uri": "https://localhost:8080/",
          "height": 35
        },
        "outputId": "e4cceda7-1388-4dbf-ae1a-56c702a914f6"
      },
      "cell_type": "code",
      "source": [
        "cd /content/retail-data-challenge\n"
      ],
      "execution_count": 20,
      "outputs": [
        {
          "output_type": "stream",
          "text": [
            "/content/retail-data-challenge\n"
          ],
          "name": "stdout"
        }
      ]
    },
    {
      "metadata": {
        "id": "CP9aW6CH5Y4_",
        "colab_type": "code",
        "colab": {
          "base_uri": "https://localhost:8080/",
          "height": 121
        },
        "outputId": "0908dada-12c0-4d93-f878-51ae8d22a02b"
      },
      "cell_type": "code",
      "source": [
        "!ls -la"
      ],
      "execution_count": 21,
      "outputs": [
        {
          "output_type": "stream",
          "text": [
            "total 20\n",
            "drwxr-xr-x 4 root root 4096 Apr  7 08:21 .\n",
            "drwxr-xr-x 1 root root 4096 Apr  7 08:21 ..\n",
            "drwxr-xr-x 2 root root 4096 Apr  7 08:21 data\n",
            "drwxr-xr-x 8 root root 4096 Apr  7 08:21 .git\n",
            "-rw-r--r-- 1 root root   23 Apr  7 08:21 README.md\n"
          ],
          "name": "stdout"
        }
      ]
    },
    {
      "metadata": {
        "id": "J_qcVHcI5pns",
        "colab_type": "code",
        "colab": {
          "base_uri": "https://localhost:8080/",
          "height": 35
        },
        "outputId": "0186dec5-f1f0-43e4-d6cf-2d4d38564a7a"
      },
      "cell_type": "code",
      "source": [
        "!pwd"
      ],
      "execution_count": 22,
      "outputs": [
        {
          "output_type": "stream",
          "text": [
            "/content/retail-data-challenge\n"
          ],
          "name": "stdout"
        }
      ]
    },
    {
      "metadata": {
        "id": "qH4p_AL858s4",
        "colab_type": "code",
        "colab": {
          "base_uri": "https://localhost:8080/",
          "height": 225
        },
        "outputId": "5410111b-4a38-4f96-f513-6dbd9215e179"
      },
      "cell_type": "code",
      "source": [
        "!git pull"
      ],
      "execution_count": 23,
      "outputs": [
        {
          "output_type": "stream",
          "text": [
            "remote: Enumerating objects: 4, done.\u001b[K\n",
            "remote: Counting objects:  25% (1/4)   \u001b[K\rremote: Counting objects:  50% (2/4)   \u001b[K\rremote: Counting objects:  75% (3/4)   \u001b[K\rremote: Counting objects: 100% (4/4)   \u001b[K\rremote: Counting objects: 100% (4/4), done.\u001b[K\n",
            "remote: Compressing objects:  33% (1/3)   \u001b[K\rremote: Compressing objects:  66% (2/3)   \u001b[K\rremote: Compressing objects: 100% (3/3)   \u001b[K\rremote: Compressing objects: 100% (3/3), done.\u001b[K\n",
            "remote: Total 3 (delta 0), reused 0 (delta 0), pack-reused 0\u001b[K\n",
            "Unpacking objects:  33% (1/3)   \rUnpacking objects:  66% (2/3)   \rUnpacking objects: 100% (3/3)   \rUnpacking objects: 100% (3/3), done.\n",
            "From https://github.com/laurenzberger/retail-data-challenge\n",
            "   f73e4c8..421d4dd  master     -> origin/master\n",
            "Updating f73e4c8..421d4dd\n",
            "Fast-forward\n",
            " RetailRegressionChallenge.ipynb | 101 \u001b[32m++++++++++++++++++++++++++++++++++++++++\u001b[m\n",
            " 1 file changed, 101 insertions(+)\n",
            " create mode 100644 RetailRegressionChallenge.ipynb\n"
          ],
          "name": "stdout"
        }
      ]
    }
  ]
}